{
 "cells": [
  {
   "cell_type": "markdown",
   "metadata": {},
   "source": [
    "## **Практическое занятие №4**\n",
    "\n",
    "# **Имитационное моделирование вычислительных систем**"
   ]
  },
  {
   "cell_type": "markdown",
   "metadata": {},
   "source": [
    "***Цель работы:***\n",
    "Изучение процесса построения имитационной модели на примере одноканальной системы с буфером и со случайными стохастическими процессами поступления заявок и их обработки. Определение выходных характеристик вычислительной системы на основе статистической обработки результатов имитационного"
   ]
  },
  {
   "cell_type": "markdown",
   "metadata": {},
   "source": [
    "### Задание №1"
   ]
  },
  {
   "cell_type": "markdown",
   "metadata": {},
   "source": [
    "Используя мультипликативный генератор случайных чисел, сформировать последовательности случайных чисел:\n",
    "• для входного потока заявок, распределенных по линейному закону со следующими параметрами: TZmin = 4сек И TZmax = 12сек ;\n",
    "•\n",
    "для времени обработки заявок сервером, распределенных также по линейному закону с параметрами: TSmin = 2сек И TSmax = 8сек;\n",
    "Исходные данные для мультипликативного датчика случайных чисел задать: M = 1000, a_TZ = 39, a_TS = 39, b = 1, x0 = 1."
   ]
  },
  {
   "cell_type": "code",
   "execution_count": 1,
   "metadata": {},
   "outputs": [],
   "source": [
    "def generate_random_sequence(a, M, N, x0):\n",
    "    random_sequence = []\n",
    "    xn = x0\n",
    "    for _ in range(N):\n",
    "        xn = (a * xn) % M\n",
    "        random_sequence.append(xn)\n",
    "    return random_sequence"
   ]
  },
  {
   "cell_type": "code",
   "execution_count": 14,
   "metadata": {},
   "outputs": [
    {
     "name": "stdout",
     "output_type": "stream",
     "text": [
      "Intervals for TZ: [4.312, 8.168, 6.552, 7.5280000000000005, 5.5920000000000005, 10.088000000000001, 9.432, 7.848, 10.072, 8.808, 7.5120000000000005, 4.968, 9.751999999999999, 4.328, 8.792, 6.888, 4.632, 4.648, 5.272, 5.6080000000000005, 10.712, 9.768, 4.952, 9.128, 11.992, 11.687999999999999, 7.832, 9.448, 8.472000000000001, 10.408000000000001, 5.912, 6.568, 8.152000000000001, 5.928, 7.192, 8.488, 11.032, 6.248, 11.672, 7.208, 9.112, 11.368, 11.352, 10.728, 10.392, 5.288, 6.232, 11.048, 6.872, 4.008, 4.312, 8.168, 6.552, 7.5280000000000005, 5.5920000000000005, 10.088000000000001, 9.432, 7.848, 10.072, 8.808, 7.5120000000000005, 4.968, 9.751999999999999, 4.328, 8.792, 6.888, 4.632, 4.648, 5.272, 5.6080000000000005, 10.712, 9.768, 4.952, 9.128, 11.992, 11.687999999999999, 7.832, 9.448, 8.472000000000001, 10.408000000000001, 5.912, 6.568, 8.152000000000001, 5.928, 7.192, 8.488, 11.032, 6.248, 11.672, 7.208, 9.112, 11.368, 11.352, 10.728, 10.392, 5.288, 6.232, 11.048, 6.872, 4.008]\n",
      "Intervals for TS: [2.234, 5.126, 3.914, 4.646, 3.194, 6.566, 6.074, 4.886, 6.554, 5.606, 4.634, 2.726, 6.314, 2.246, 5.593999999999999, 4.166, 2.474, 2.4859999999999998, 2.9539999999999997, 3.206, 7.034, 6.326, 2.714, 5.846, 7.994, 7.766, 4.874, 6.086, 5.354, 6.806, 3.434, 3.926, 5.114, 3.4459999999999997, 4.394, 5.3660000000000005, 7.274, 3.686, 7.754, 4.406000000000001, 5.834, 7.526, 7.514, 7.045999999999999, 6.7940000000000005, 2.966, 3.6740000000000004, 7.286, 4.154, 2.006, 2.234, 5.126, 3.914, 4.646, 3.194, 6.566, 6.074, 4.886, 6.554, 5.606, 4.634, 2.726, 6.314, 2.246, 5.593999999999999, 4.166, 2.474, 2.4859999999999998, 2.9539999999999997, 3.206, 7.034, 6.326, 2.714, 5.846, 7.994, 7.766, 4.874, 6.086, 5.354, 6.806, 3.434, 3.926, 5.114, 3.4459999999999997, 4.394, 5.3660000000000005, 7.274, 3.686, 7.754, 4.406000000000001, 5.834, 7.526, 7.514, 7.045999999999999, 6.7940000000000005, 2.966, 3.6740000000000004, 7.286, 4.154, 2.006]\n"
     ]
    }
   ],
   "source": [
    "a_TZ = 39\n",
    "M = 1000\n",
    "N_TZ = 100  \n",
    "x0_TZ = 1\n",
    "\n",
    "sequence_TZ = generate_random_sequence(a_TZ, M, N_TZ, x0_TZ)\n",
    "\n",
    "a_TS = 39\n",
    "N_TS = 100 \n",
    "x0_TS = 1\n",
    "\n",
    "sequence_TS = generate_random_sequence(a_TS, M, N_TS, x0_TS)\n",
    "\n",
    "TZmin = 4  \n",
    "TZmax = 12  \n",
    "TSmin = 2  \n",
    "TSmax = 8  \n",
    "\n",
    "intervals_TZ = [TZmin + (TZmax - TZmin) * (x / M) for x in sequence_TZ]\n",
    "intervals_TS = [TSmin + (TSmax - TSmin) * (x / M) for x in sequence_TS]\n",
    "\n",
    "print(\"Intervals for TZ:\", intervals_TZ)\n",
    "print(\"Intervals for TS:\", intervals_TS)\n"
   ]
  },
  {
   "cell_type": "markdown",
   "metadata": {},
   "source": [
    "### Задание №2"
   ]
  },
  {
   "cell_type": "markdown",
   "metadata": {},
   "source": [
    "Определить времена прихода программ в вычислительную систему на основе полученной выше (задание Nº1) последовательности входного потока программ."
   ]
  },
  {
   "cell_type": "code",
   "execution_count": 16,
   "metadata": {},
   "outputs": [
    {
     "name": "stdout",
     "output_type": "stream",
     "text": [
      "Arrival Times of Programs:\n",
      "Program 1: 4.312 seconds\n",
      "Program 2: 12.48 seconds\n",
      "Program 3: 19.032 seconds\n",
      "Program 4: 26.560000000000002 seconds\n",
      "Program 5: 32.152 seconds\n",
      "Program 6: 42.24 seconds\n",
      "Program 7: 51.672000000000004 seconds\n",
      "Program 8: 59.52 seconds\n",
      "Program 9: 69.592 seconds\n",
      "Program 10: 78.4 seconds\n",
      "Program 11: 85.912 seconds\n",
      "Program 12: 90.88000000000001 seconds\n",
      "Program 13: 100.632 seconds\n",
      "Program 14: 104.96000000000001 seconds\n",
      "Program 15: 113.75200000000001 seconds\n",
      "Program 16: 120.64000000000001 seconds\n",
      "Program 17: 125.27200000000002 seconds\n",
      "Program 18: 129.92000000000002 seconds\n",
      "Program 19: 135.192 seconds\n",
      "Program 20: 140.8 seconds\n",
      "Program 21: 151.512 seconds\n",
      "Program 22: 161.28 seconds\n",
      "Program 23: 166.232 seconds\n",
      "Program 24: 175.36 seconds\n",
      "Program 25: 187.352 seconds\n",
      "Program 26: 199.04 seconds\n",
      "Program 27: 206.87199999999999 seconds\n",
      "Program 28: 216.32 seconds\n",
      "Program 29: 224.792 seconds\n",
      "Program 30: 235.2 seconds\n",
      "Program 31: 241.112 seconds\n",
      "Program 32: 247.68 seconds\n",
      "Program 33: 255.832 seconds\n",
      "Program 34: 261.76 seconds\n",
      "Program 35: 268.952 seconds\n",
      "Program 36: 277.44 seconds\n",
      "Program 37: 288.472 seconds\n",
      "Program 38: 294.71999999999997 seconds\n",
      "Program 39: 306.392 seconds\n",
      "Program 40: 313.6 seconds\n",
      "Program 41: 322.71200000000005 seconds\n",
      "Program 42: 334.08000000000004 seconds\n",
      "Program 43: 345.432 seconds\n",
      "Program 44: 356.16 seconds\n",
      "Program 45: 366.552 seconds\n",
      "Program 46: 371.84000000000003 seconds\n",
      "Program 47: 378.07200000000006 seconds\n",
      "Program 48: 389.12000000000006 seconds\n",
      "Program 49: 395.9920000000001 seconds\n",
      "Program 50: 400.00000000000006 seconds\n",
      "Program 51: 404.31200000000007 seconds\n",
      "Program 52: 412.4800000000001 seconds\n",
      "Program 53: 419.0320000000001 seconds\n",
      "Program 54: 426.5600000000001 seconds\n",
      "Program 55: 432.1520000000001 seconds\n",
      "Program 56: 442.2400000000001 seconds\n",
      "Program 57: 451.67200000000014 seconds\n",
      "Program 58: 459.52000000000015 seconds\n",
      "Program 59: 469.59200000000016 seconds\n",
      "Program 60: 478.40000000000015 seconds\n",
      "Program 61: 485.91200000000015 seconds\n",
      "Program 62: 490.88000000000017 seconds\n",
      "Program 63: 500.6320000000002 seconds\n",
      "Program 64: 504.96000000000015 seconds\n",
      "Program 65: 513.7520000000002 seconds\n",
      "Program 66: 520.6400000000002 seconds\n",
      "Program 67: 525.2720000000002 seconds\n",
      "Program 68: 529.9200000000002 seconds\n",
      "Program 69: 535.1920000000002 seconds\n",
      "Program 70: 540.8000000000002 seconds\n",
      "Program 71: 551.5120000000002 seconds\n",
      "Program 72: 561.2800000000002 seconds\n",
      "Program 73: 566.2320000000002 seconds\n",
      "Program 74: 575.3600000000002 seconds\n",
      "Program 75: 587.3520000000002 seconds\n",
      "Program 76: 599.0400000000002 seconds\n",
      "Program 77: 606.8720000000002 seconds\n",
      "Program 78: 616.3200000000002 seconds\n",
      "Program 79: 624.7920000000001 seconds\n",
      "Program 80: 635.2000000000002 seconds\n",
      "Program 81: 641.1120000000002 seconds\n",
      "Program 82: 647.6800000000002 seconds\n",
      "Program 83: 655.8320000000002 seconds\n",
      "Program 84: 661.7600000000002 seconds\n",
      "Program 85: 668.9520000000002 seconds\n",
      "Program 86: 677.4400000000003 seconds\n",
      "Program 87: 688.4720000000003 seconds\n",
      "Program 88: 694.7200000000004 seconds\n",
      "Program 89: 706.3920000000004 seconds\n",
      "Program 90: 713.6000000000004 seconds\n",
      "Program 91: 722.7120000000003 seconds\n",
      "Program 92: 734.0800000000004 seconds\n",
      "Program 93: 745.4320000000004 seconds\n",
      "Program 94: 756.1600000000003 seconds\n",
      "Program 95: 766.5520000000004 seconds\n",
      "Program 96: 771.8400000000004 seconds\n",
      "Program 97: 778.0720000000003 seconds\n",
      "Program 98: 789.1200000000003 seconds\n",
      "Program 99: 795.9920000000003 seconds\n",
      "Program 100: 800.0000000000003 seconds\n"
     ]
    }
   ],
   "source": [
    "current_time = 0.0\n",
    "arrival_times = []\n",
    "\n",
    "for interval in intervals_TZ:\n",
    "    current_time += interval\n",
    "    arrival_times.append(current_time)\n",
    "\n",
    "print(\"Arrival Times of Programs:\")\n",
    "for i, time in enumerate(arrival_times, 1):\n",
    "    print(f\"Program {i}: {time} seconds\")\n"
   ]
  },
  {
   "cell_type": "markdown",
   "metadata": {},
   "source": [
    "### Задание №3"
   ]
  },
  {
   "cell_type": "markdown",
   "metadata": {},
   "source": [
    "Ha\n",
    "основе представленного описания имитационной модели\n",
    "вычислительной системы в п.4.2 разработать программу по расчету времени нахождения программ в буфере."
   ]
  },
  {
   "cell_type": "code",
   "execution_count": 18,
   "metadata": {},
   "outputs": [
    {
     "name": "stdout",
     "output_type": "stream",
     "text": [
      "Program 1 - Arrival Time: 4.31s, Buffer Time: 0.00s\n",
      "Program 2 - Arrival Time: 12.48s, Buffer Time: 0.00s\n",
      "Program 3 - Arrival Time: 19.03s, Buffer Time: 0.00s\n",
      "Program 4 - Arrival Time: 26.56s, Buffer Time: 0.00s\n",
      "Program 5 - Arrival Time: 32.15s, Buffer Time: 0.00s\n",
      "Program 6 - Arrival Time: 42.24s, Buffer Time: 0.00s\n",
      "Program 7 - Arrival Time: 51.67s, Buffer Time: 0.00s\n",
      "Program 8 - Arrival Time: 59.52s, Buffer Time: 0.00s\n",
      "Program 9 - Arrival Time: 69.59s, Buffer Time: 0.00s\n",
      "Program 10 - Arrival Time: 78.40s, Buffer Time: 0.00s\n",
      "Program 11 - Arrival Time: 85.91s, Buffer Time: 0.00s\n",
      "Program 12 - Arrival Time: 90.88s, Buffer Time: 0.00s\n",
      "Program 13 - Arrival Time: 100.63s, Buffer Time: 0.00s\n",
      "Program 14 - Arrival Time: 104.96s, Buffer Time: 0.00s\n",
      "Program 15 - Arrival Time: 113.75s, Buffer Time: 0.00s\n",
      "Program 16 - Arrival Time: 120.64s, Buffer Time: 0.00s\n",
      "Program 17 - Arrival Time: 125.27s, Buffer Time: 0.00s\n",
      "Program 18 - Arrival Time: 129.92s, Buffer Time: 0.00s\n",
      "Program 19 - Arrival Time: 135.19s, Buffer Time: 0.00s\n",
      "Program 20 - Arrival Time: 140.80s, Buffer Time: 0.00s\n",
      "Program 21 - Arrival Time: 151.51s, Buffer Time: 0.00s\n",
      "Program 22 - Arrival Time: 161.28s, Buffer Time: 0.00s\n",
      "Program 23 - Arrival Time: 166.23s, Buffer Time: 0.00s\n",
      "Program 24 - Arrival Time: 175.36s, Buffer Time: 0.00s\n",
      "Program 25 - Arrival Time: 187.35s, Buffer Time: 0.00s\n",
      "Program 26 - Arrival Time: 199.04s, Buffer Time: 0.00s\n",
      "Program 27 - Arrival Time: 206.87s, Buffer Time: 0.00s\n",
      "Program 28 - Arrival Time: 216.32s, Buffer Time: 0.00s\n",
      "Program 29 - Arrival Time: 224.79s, Buffer Time: 0.00s\n",
      "Program 30 - Arrival Time: 235.20s, Buffer Time: 0.00s\n",
      "Program 31 - Arrival Time: 241.11s, Buffer Time: 0.00s\n",
      "Program 32 - Arrival Time: 247.68s, Buffer Time: 0.00s\n",
      "Program 33 - Arrival Time: 255.83s, Buffer Time: 0.00s\n",
      "Program 34 - Arrival Time: 261.76s, Buffer Time: 0.00s\n",
      "Program 35 - Arrival Time: 268.95s, Buffer Time: 0.00s\n",
      "Program 36 - Arrival Time: 277.44s, Buffer Time: 0.00s\n",
      "Program 37 - Arrival Time: 288.47s, Buffer Time: 0.00s\n",
      "Program 38 - Arrival Time: 294.72s, Buffer Time: 0.00s\n",
      "Program 39 - Arrival Time: 306.39s, Buffer Time: 0.00s\n",
      "Program 40 - Arrival Time: 313.60s, Buffer Time: 0.00s\n",
      "Program 41 - Arrival Time: 322.71s, Buffer Time: 0.00s\n",
      "Program 42 - Arrival Time: 334.08s, Buffer Time: 0.00s\n",
      "Program 43 - Arrival Time: 345.43s, Buffer Time: 0.00s\n",
      "Program 44 - Arrival Time: 356.16s, Buffer Time: 0.00s\n",
      "Program 45 - Arrival Time: 366.55s, Buffer Time: 0.00s\n",
      "Program 46 - Arrival Time: 371.84s, Buffer Time: 0.00s\n",
      "Program 47 - Arrival Time: 378.07s, Buffer Time: 0.00s\n",
      "Program 48 - Arrival Time: 389.12s, Buffer Time: 0.00s\n",
      "Program 49 - Arrival Time: 395.99s, Buffer Time: 0.00s\n",
      "Program 50 - Arrival Time: 400.00s, Buffer Time: 0.00s\n",
      "Program 51 - Arrival Time: 404.31s, Buffer Time: 0.00s\n",
      "Program 52 - Arrival Time: 412.48s, Buffer Time: 0.00s\n",
      "Program 53 - Arrival Time: 419.03s, Buffer Time: 0.00s\n",
      "Program 54 - Arrival Time: 426.56s, Buffer Time: 0.00s\n",
      "Program 55 - Arrival Time: 432.15s, Buffer Time: 0.00s\n",
      "Program 56 - Arrival Time: 442.24s, Buffer Time: 0.00s\n",
      "Program 57 - Arrival Time: 451.67s, Buffer Time: 0.00s\n",
      "Program 58 - Arrival Time: 459.52s, Buffer Time: 0.00s\n",
      "Program 59 - Arrival Time: 469.59s, Buffer Time: 0.00s\n",
      "Program 60 - Arrival Time: 478.40s, Buffer Time: 0.00s\n",
      "Program 61 - Arrival Time: 485.91s, Buffer Time: 0.00s\n",
      "Program 62 - Arrival Time: 490.88s, Buffer Time: 0.00s\n",
      "Program 63 - Arrival Time: 500.63s, Buffer Time: 0.00s\n",
      "Program 64 - Arrival Time: 504.96s, Buffer Time: 0.00s\n",
      "Program 65 - Arrival Time: 513.75s, Buffer Time: 0.00s\n",
      "Program 66 - Arrival Time: 520.64s, Buffer Time: 0.00s\n",
      "Program 67 - Arrival Time: 525.27s, Buffer Time: 0.00s\n",
      "Program 68 - Arrival Time: 529.92s, Buffer Time: 0.00s\n",
      "Program 69 - Arrival Time: 535.19s, Buffer Time: 0.00s\n",
      "Program 70 - Arrival Time: 540.80s, Buffer Time: 0.00s\n",
      "Program 71 - Arrival Time: 551.51s, Buffer Time: 0.00s\n",
      "Program 72 - Arrival Time: 561.28s, Buffer Time: 0.00s\n",
      "Program 73 - Arrival Time: 566.23s, Buffer Time: 0.00s\n",
      "Program 74 - Arrival Time: 575.36s, Buffer Time: 0.00s\n",
      "Program 75 - Arrival Time: 587.35s, Buffer Time: 0.00s\n",
      "Program 76 - Arrival Time: 599.04s, Buffer Time: 0.00s\n",
      "Program 77 - Arrival Time: 606.87s, Buffer Time: 0.00s\n",
      "Program 78 - Arrival Time: 616.32s, Buffer Time: 0.00s\n",
      "Program 79 - Arrival Time: 624.79s, Buffer Time: 0.00s\n",
      "Program 80 - Arrival Time: 635.20s, Buffer Time: 0.00s\n",
      "Program 81 - Arrival Time: 641.11s, Buffer Time: 0.00s\n",
      "Program 82 - Arrival Time: 647.68s, Buffer Time: 0.00s\n",
      "Program 83 - Arrival Time: 655.83s, Buffer Time: 0.00s\n",
      "Program 84 - Arrival Time: 661.76s, Buffer Time: 0.00s\n",
      "Program 85 - Arrival Time: 668.95s, Buffer Time: 0.00s\n",
      "Program 86 - Arrival Time: 677.44s, Buffer Time: 0.00s\n",
      "Program 87 - Arrival Time: 688.47s, Buffer Time: 0.00s\n",
      "Program 88 - Arrival Time: 694.72s, Buffer Time: 0.00s\n",
      "Program 89 - Arrival Time: 706.39s, Buffer Time: 0.00s\n",
      "Program 90 - Arrival Time: 713.60s, Buffer Time: 0.00s\n",
      "Program 91 - Arrival Time: 722.71s, Buffer Time: 0.00s\n",
      "Program 92 - Arrival Time: 734.08s, Buffer Time: 0.00s\n",
      "Program 93 - Arrival Time: 745.43s, Buffer Time: 0.00s\n",
      "Program 94 - Arrival Time: 756.16s, Buffer Time: 0.00s\n",
      "Program 95 - Arrival Time: 766.55s, Buffer Time: 0.00s\n",
      "Program 96 - Arrival Time: 771.84s, Buffer Time: 0.00s\n",
      "Program 97 - Arrival Time: 778.07s, Buffer Time: 0.00s\n",
      "Program 98 - Arrival Time: 789.12s, Buffer Time: 0.00s\n",
      "Program 99 - Arrival Time: 795.99s, Buffer Time: 0.00s\n",
      "Program 100 - Arrival Time: 800.00s, Buffer Time: 0.00s\n",
      "Total Buffer Time: 0.00s\n"
     ]
    }
   ],
   "source": [
    "start_times = {}\n",
    "\n",
    "for i, arrival_time in enumerate(arrival_times):\n",
    "    if i == 0:\n",
    "        start_time = arrival_time  \n",
    "    else:\n",
    "        start_time = max(arrival_time, max(start_times.values()))  \n",
    "    processing_time = intervals_TS[i]\n",
    "    end_time = start_time + processing_time\n",
    "    start_times[i] = start_time\n",
    "    buffer_time = start_time - arrival_time  \n",
    "    print(f\"Program {i + 1} - Arrival Time: {arrival_time:.2f}s, Buffer Time: {buffer_time:.2f}s\")\n",
    "\n",
    "total_buffer_time = sum(start_time - arrival_time for arrival_time, start_time in zip(arrival_times, start_times.values()))\n",
    "print(f\"Total Buffer Time: {total_buffer_time:.2f}s\")\n"
   ]
  },
  {
   "cell_type": "markdown",
   "metadata": {},
   "source": [
    "### Задание №4"
   ]
  },
  {
   "cell_type": "markdown",
   "metadata": {},
   "source": [
    "Используя разработанную программу в соответствии с заданием Nº3, определить времена нахождения в буфере - одной программы, двух программ и т.д."
   ]
  },
  {
   "cell_type": "code",
   "execution_count": 21,
   "metadata": {},
   "outputs": [
    {
     "name": "stdout",
     "output_type": "stream",
     "text": [
      "Total Buffer Time for 1 Programs: 0.00s\n",
      "Total Buffer Time for 2 Programs: 0.00s\n",
      "Total Buffer Time for 3 Programs: 0.00s\n",
      "Total Buffer Time for 4 Programs: 0.00s\n",
      "Total Buffer Time for 5 Programs: 0.00s\n",
      "Total Buffer Time for 6 Programs: 0.00s\n",
      "Total Buffer Time for 7 Programs: 0.00s\n",
      "Total Buffer Time for 8 Programs: 0.00s\n",
      "Total Buffer Time for 9 Programs: 0.00s\n",
      "Total Buffer Time for 10 Programs: 0.00s\n"
     ]
    }
   ],
   "source": [
    "\n",
    "num_programs_to_check = len(arrival_times)\n",
    "for num_programs in range(1, num_programs_to_check + 1):\n",
    "    buffer_times = [start_time - arrival_time for arrival_time, start_time in zip(arrival_times[:num_programs], list(start_times.values())[:num_programs])]\n",
    "    total_buffer_time = sum(buffer_times)\n",
    "    print(f\"Total Buffer Time for {num_programs} Programs: {total_buffer_time:.2f}s\")\n"
   ]
  },
  {
   "cell_type": "markdown",
   "metadata": {},
   "source": [
    "### Задание №5"
   ]
  },
  {
   "cell_type": "markdown",
   "metadata": {},
   "source": [
    "Рассчитать вероятности нахождения в буфере - одной программы, двух\n",
    "программ и т.д."
   ]
  },
  {
   "cell_type": "code",
   "execution_count": 22,
   "metadata": {},
   "outputs": [
    {
     "name": "stdout",
     "output_type": "stream",
     "text": [
      "Probability of 0 Programs in Buffer: 1.00\n",
      "Probability of 1 Programs in Buffer: 1.00\n",
      "Probability of 2 Programs in Buffer: 1.00\n",
      "Probability of 3 Programs in Buffer: 1.00\n",
      "Probability of 4 Programs in Buffer: 1.00\n",
      "Probability of 5 Programs in Buffer: 1.00\n",
      "Probability of 6 Programs in Buffer: 1.00\n",
      "Probability of 7 Programs in Buffer: 1.00\n",
      "Probability of 8 Programs in Buffer: 1.00\n",
      "Probability of 9 Programs in Buffer: 1.00\n",
      "Probability of 10 Programs in Buffer: 1.00\n"
     ]
    }
   ],
   "source": [
    "\n",
    "buffer_probabilities = {}\n",
    "for num_programs in range(num_programs_to_check + 1):\n",
    "    buffer_count = 0\n",
    "    for i in range(num_programs_to_check):\n",
    "        if i == 0:\n",
    "            if start_times[i] > 0:\n",
    "                buffer_count += 1\n",
    "        else:\n",
    "            if start_times[i] - start_times[i - 1] > 0:\n",
    "                buffer_count += 1\n",
    "    probability = buffer_count / num_programs_to_check\n",
    "    buffer_probabilities[num_programs] = probability\n",
    "\n",
    "for num_programs, probability in buffer_probabilities.items():\n",
    "    print(f\"Probability of {num_programs} Programs in Buffer: {probability:.2f}\")\n"
   ]
  },
  {
   "cell_type": "markdown",
   "metadata": {},
   "source": [
    "### Задание №6"
   ]
  },
  {
   "cell_type": "markdown",
   "metadata": {},
   "source": [
    "Используя встроенный генератор случайных чисел MathCAD (функция\n",
    "rnd) сформировать последовательности случайных чисел:\n",
    "\n",
    "для входного потока заявок, распределенных по экспоненциальному закону с параметром lambda = 1/3\n",
    "для времени обработки заявок сервером, распределенных по экспоненциальному закону с параметром mu = 1/4"
   ]
  },
  {
   "cell_type": "code",
   "execution_count": 24,
   "metadata": {},
   "outputs": [
    {
     "name": "stdout",
     "output_type": "stream",
     "text": [
      "Random Numbers for Incoming Requests (TZ):\n",
      "[ 2.26384481  0.41034983  5.83241736  0.45054916  0.15283062  2.15155926\n",
      "  4.40148433  2.41880633  3.59640141  1.86068862  0.03552707  0.56413521\n",
      "  1.07901108  5.04881483  0.2695515   3.23907715  4.65161774  1.77450203\n",
      "  1.04566437  6.32600075  0.73850585  1.4394403   1.85392536  2.51925013\n",
      "  0.65243362  4.53639126  2.63759967  3.89311558 11.28518515  2.30293037\n",
      "  2.73642345  1.20752487  2.23750391  1.94054747  0.99602292  1.24774271\n",
      "  3.04141828  3.48303644  6.80719971  0.84131678  3.43824766  7.62314905\n",
      "  1.12464729  0.05990781  3.75754818  0.08729097  6.41922198  1.39516595\n",
      "  2.37352645  1.30830164 12.65026366  2.82084576  2.42046964  1.43733342\n",
      "  0.11713663  0.28970921  1.4322286   2.47730274  0.83672291  2.38661849\n",
      "  1.51845433  3.98645189  4.03980806  4.86264965  6.68845735  1.53621215\n",
      "  6.24413604  8.15849635  1.36609147  7.19125637  0.88768978  0.2252049\n",
      "  0.62498924  3.81546782  1.71414017  3.83282027  0.41744784  7.93831571\n",
      "  0.41346585  0.0856553   4.52499754  3.95381915 10.4741883   2.1239025\n",
      "  1.53342008  0.6033052   1.08391183  1.30582743  6.42504551  0.17789695\n",
      "  0.84173753  3.91087881  0.52726715 21.28947185  7.68427927  4.59608578\n",
      "  2.83281832  3.64189232  2.48336614  5.08748619]\n",
      "\n",
      "Random Numbers for Processing Time (TS):\n",
      "[10.94747206  6.82388057  7.65153871  6.25381897  1.55133929  4.71660372\n",
      " 10.01750874  1.45938769  2.16124153  0.04628981  4.19154313  3.28802969\n",
      "  0.91255144  0.66159612  2.71308009  3.44045885  9.78943513  1.0186021\n",
      "  1.80339109  4.64978246  6.9385677   4.67429889  7.0686377   1.08209497\n",
      "  0.1687274   6.69990534  2.28742161  1.201466    3.60874964  3.90037153\n",
      "  1.18821968  1.89156392  4.05564638 12.52185588  2.36253368  6.46922816\n",
      "  0.78851279 10.77531906  0.51334781  1.42059603  0.63370522  1.50922923\n",
      "  0.6113435   1.43762048  5.18650931  0.1961507  12.31430124  3.87845199\n",
      "  3.71101099  2.70089488  4.85574352  5.76407556  0.1003533   1.58347477\n",
      "  6.00391532  0.85320011  6.49318953  3.06569615  6.96362931  2.542926\n",
      "  0.2033923   3.13650128  3.57522973  6.41078317  0.98451109  1.56740251\n",
      "  8.25494539  1.50630623  3.03908112  1.33085201  2.49948613 18.45858492\n",
      "  0.85343666  2.42380925  3.33607092  5.17757351  2.71858703  2.02279631\n",
      "  3.38113232  1.09576056  1.82727167  4.08277105  7.00585872  4.63138412\n",
      "  0.85895298  8.34077938  1.49853938  7.53386685  2.94990971  9.93309483\n",
      "  0.96902509  1.68848865  5.57879072  0.40177386 10.2903654   2.08773463\n",
      "  1.32390813  1.58107191  3.84572112  6.31765912]\n"
     ]
    }
   ],
   "source": [
    "import numpy as np\n",
    "\n",
    "lambda_param = 1/3  \n",
    "N = 100 \n",
    "\n",
    "random_numbers_TZ = np.random.exponential(scale=1/lambda_param, size=N)\n",
    "\n",
    "mu_param = 1/4  \n",
    "N = 100  \n",
    "\n",
    "random_numbers_TS = np.random.exponential(scale=1/mu_param, size=N)\n",
    "\n",
    "print(\"Random Numbers for Incoming Requests (TZ):\")\n",
    "print(random_numbers_TZ)\n",
    "\n",
    "print(\"\\nRandom Numbers for Processing Time (TS):\")\n",
    "print(random_numbers_TS)\n"
   ]
  },
  {
   "cell_type": "markdown",
   "metadata": {},
   "source": [
    "### Задание №7"
   ]
  },
  {
   "cell_type": "markdown",
   "metadata": {},
   "source": [
    "Используя разработанную программу в соответствии с заданием Nº3, определить времена и вероятность нахождения в буфере - одной программы, двух программ и т.д. для экспоненциальных законов распределения входного потока заявок и времени обработки заявок сервером."
   ]
  },
  {
   "cell_type": "code",
   "execution_count": 25,
   "metadata": {},
   "outputs": [
    {
     "name": "stdout",
     "output_type": "stream",
     "text": [
      "Buffer Times for Different Numbers of Programs:\n",
      "Program 1: Buffer Time = 0.00 seconds\n",
      "Program 2: Buffer Time = 0.00 seconds\n",
      "Program 3: Buffer Time = 0.00 seconds\n",
      "Program 4: Buffer Time = 0.00 seconds\n",
      "Program 5: Buffer Time = 0.00 seconds\n",
      "Program 6: Buffer Time = 0.00 seconds\n",
      "Program 7: Buffer Time = 0.00 seconds\n",
      "Program 8: Buffer Time = 0.00 seconds\n",
      "Program 9: Buffer Time = 0.00 seconds\n",
      "Program 10: Buffer Time = 0.00 seconds\n",
      "Program 11: Buffer Time = 0.00 seconds\n",
      "Program 12: Buffer Time = 0.00 seconds\n",
      "Program 13: Buffer Time = 0.00 seconds\n",
      "Program 14: Buffer Time = 0.00 seconds\n",
      "Program 15: Buffer Time = 0.00 seconds\n",
      "Program 16: Buffer Time = 0.00 seconds\n",
      "Program 17: Buffer Time = 0.00 seconds\n",
      "Program 18: Buffer Time = 0.00 seconds\n",
      "Program 19: Buffer Time = 0.00 seconds\n",
      "Program 20: Buffer Time = 0.00 seconds\n",
      "Program 21: Buffer Time = 0.00 seconds\n",
      "Program 22: Buffer Time = 0.00 seconds\n",
      "Program 23: Buffer Time = 0.00 seconds\n",
      "Program 24: Buffer Time = 0.00 seconds\n",
      "Program 25: Buffer Time = 0.00 seconds\n",
      "Program 26: Buffer Time = 0.00 seconds\n",
      "Program 27: Buffer Time = 0.00 seconds\n",
      "Program 28: Buffer Time = 0.00 seconds\n",
      "Program 29: Buffer Time = 0.00 seconds\n",
      "Program 30: Buffer Time = 0.00 seconds\n",
      "Program 31: Buffer Time = 0.00 seconds\n",
      "Program 32: Buffer Time = 0.00 seconds\n",
      "Program 33: Buffer Time = 0.00 seconds\n",
      "Program 34: Buffer Time = 0.00 seconds\n",
      "Program 35: Buffer Time = 0.00 seconds\n",
      "Program 36: Buffer Time = 0.00 seconds\n",
      "Program 37: Buffer Time = 0.00 seconds\n",
      "Program 38: Buffer Time = 0.00 seconds\n",
      "Program 39: Buffer Time = 0.00 seconds\n",
      "Program 40: Buffer Time = 0.00 seconds\n",
      "Program 41: Buffer Time = 0.00 seconds\n",
      "Program 42: Buffer Time = 0.00 seconds\n",
      "Program 43: Buffer Time = 0.00 seconds\n",
      "Program 44: Buffer Time = 0.00 seconds\n",
      "Program 45: Buffer Time = 0.00 seconds\n",
      "Program 46: Buffer Time = 0.00 seconds\n",
      "Program 47: Buffer Time = 0.00 seconds\n",
      "Program 48: Buffer Time = 0.00 seconds\n",
      "Program 49: Buffer Time = 0.00 seconds\n",
      "Program 50: Buffer Time = 0.00 seconds\n",
      "Program 51: Buffer Time = 0.00 seconds\n",
      "Program 52: Buffer Time = 0.00 seconds\n",
      "Program 53: Buffer Time = 0.00 seconds\n",
      "Program 54: Buffer Time = 0.00 seconds\n",
      "Program 55: Buffer Time = 0.00 seconds\n",
      "Program 56: Buffer Time = 0.00 seconds\n",
      "Program 57: Buffer Time = 0.00 seconds\n",
      "Program 58: Buffer Time = 0.00 seconds\n",
      "Program 59: Buffer Time = 0.00 seconds\n",
      "Program 60: Buffer Time = 0.00 seconds\n",
      "Program 61: Buffer Time = 0.00 seconds\n",
      "Program 62: Buffer Time = 0.00 seconds\n",
      "Program 63: Buffer Time = 0.00 seconds\n",
      "Program 64: Buffer Time = 0.00 seconds\n",
      "Program 65: Buffer Time = 0.00 seconds\n",
      "Program 66: Buffer Time = 0.00 seconds\n",
      "Program 67: Buffer Time = 0.00 seconds\n",
      "Program 68: Buffer Time = 0.00 seconds\n",
      "Program 69: Buffer Time = 0.00 seconds\n",
      "Program 70: Buffer Time = 0.00 seconds\n",
      "Program 71: Buffer Time = 0.00 seconds\n",
      "Program 72: Buffer Time = 0.00 seconds\n",
      "Program 73: Buffer Time = 0.00 seconds\n",
      "Program 74: Buffer Time = 0.00 seconds\n",
      "Program 75: Buffer Time = 0.00 seconds\n",
      "Program 76: Buffer Time = 0.00 seconds\n",
      "Program 77: Buffer Time = 0.00 seconds\n",
      "Program 78: Buffer Time = 0.00 seconds\n",
      "Program 79: Buffer Time = 0.00 seconds\n",
      "Program 80: Buffer Time = 0.00 seconds\n",
      "Program 81: Buffer Time = 0.00 seconds\n",
      "Program 82: Buffer Time = 0.00 seconds\n",
      "Program 83: Buffer Time = 0.00 seconds\n",
      "Program 84: Buffer Time = 0.00 seconds\n",
      "Program 85: Buffer Time = 0.00 seconds\n",
      "Program 86: Buffer Time = 0.00 seconds\n",
      "Program 87: Buffer Time = 0.00 seconds\n",
      "Program 88: Buffer Time = 0.00 seconds\n",
      "Program 89: Buffer Time = 0.00 seconds\n",
      "Program 90: Buffer Time = 0.00 seconds\n",
      "Program 91: Buffer Time = 0.00 seconds\n",
      "Program 92: Buffer Time = 0.00 seconds\n",
      "Program 93: Buffer Time = 0.00 seconds\n",
      "Program 94: Buffer Time = 0.00 seconds\n",
      "Program 95: Buffer Time = 0.00 seconds\n",
      "Program 96: Buffer Time = 0.00 seconds\n",
      "Program 97: Buffer Time = 0.00 seconds\n",
      "Program 98: Buffer Time = 0.00 seconds\n",
      "Program 99: Buffer Time = 0.00 seconds\n",
      "Program 100: Buffer Time = 0.00 seconds\n",
      "\n",
      "Buffer Probabilities:\n",
      "Probability of 0 Programs in Buffer: 1.00\n"
     ]
    }
   ],
   "source": [
    "arrival_times = np.cumsum(random_numbers_TZ)\n",
    "start_times = np.zeros(N) \n",
    "\n",
    "num_programs_to_check = N\n",
    "buffer_times = np.zeros(num_programs_to_check)\n",
    "buffer_probabilities = {}\n",
    "\n",
    "for i in range(num_programs_to_check):\n",
    "    if i == 0:\n",
    "        if start_times[i] > 0:\n",
    "            buffer_times[i] = start_times[i] - arrival_times[i]\n",
    "    else:\n",
    "        if start_times[i] - start_times[i - 1] > 0:\n",
    "            buffer_times[i] = start_times[i] - arrival_times[i]\n",
    "\n",
    "    num_in_buffer = np.count_nonzero(buffer_times[:i + 1] > 0)\n",
    "    buffer_probabilities[num_in_buffer] = buffer_probabilities.get(num_in_buffer, 0) + 1/N\n",
    "\n",
    "print(\"Buffer Times for Different Numbers of Programs:\")\n",
    "for num_programs, buffer_time in enumerate(buffer_times, 1):\n",
    "    print(f\"Program {num_programs}: Buffer Time = {buffer_time:.2f} seconds\")\n",
    "\n",
    "print(\"\\nBuffer Probabilities:\")\n",
    "for num_programs, probability in buffer_probabilities.items():\n",
    "    print(f\"Probability of {num_programs} Programs in Buffer: {probability:.2f}\")\n"
   ]
  }
 ],
 "metadata": {
  "kernelspec": {
   "display_name": "Python 3",
   "language": "python",
   "name": "python3"
  },
  "language_info": {
   "codemirror_mode": {
    "name": "ipython",
    "version": 3
   },
   "file_extension": ".py",
   "mimetype": "text/x-python",
   "name": "python",
   "nbconvert_exporter": "python",
   "pygments_lexer": "ipython3",
   "version": "3.9.6"
  },
  "orig_nbformat": 4
 },
 "nbformat": 4,
 "nbformat_minor": 2
}
